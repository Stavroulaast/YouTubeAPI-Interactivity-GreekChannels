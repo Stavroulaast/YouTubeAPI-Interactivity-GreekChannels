{
 "cells": [
  {
   "cell_type": "markdown",
   "id": "ebc171b4",
   "metadata": {},
   "source": [
    "## Social Data Science Project\n",
    "\n",
    "###  <span style=\"color:#044e8a\"> The Impact of Video Length and Interactivity on YouTube Channel Size and Video Popularity:</span> \n",
    "### <span style=\"color:#044e8a\"> Analysis of Greece's Most-Viewed Channels </span>"
   ]
  },
  {
   "cell_type": "markdown",
   "id": "3b0f7817",
   "metadata": {},
   "source": [
    "<span style=\"color: white; background-color: #044e8a; padding: 2px; border-radius: 3px;\">\n",
    "Objective: </span>\n",
    "\n",
    "To explore how video length, content type, and interactivity affect channel size and video popularity among the most-viewed YouTube channels in Greece using data from the YouTube API.\n",
    "\n",
    "Byun et al. (2023). The effect of YouTube comment interaction on video engagement: focusing on interactivity centralization and creators' interactivity. Available at: https://www.emerald.com/insight/content/doi/10.1108/oir-04-2022-0217/full/html"
   ]
  },
  {
   "cell_type": "markdown",
   "id": "15f6eebf",
   "metadata": {},
   "source": [
    "<span style=\"color: white; background-color: #044e8a; padding: 2px; border-radius: 3px;\">\n",
    "TABLE OF CONTENTS</span>\n",
    "\n",
    "|**No.**| **Chapter** | **Sections** |\n",
    "|:-------:|:-------------------|:-----------------|\n",
    "|**1**|**Data Collection**| \n",
    "|||**1.1.** **YouTube API**\n",
    "|||**1.2. YouTube API Call 1:** Channel Ids & Data|\n",
    "|||**1.3. YouTube API Call 2:** Video Data|\n",
    "|||**1.4. YouTube API Call 3:** Comments & Threads Data|\n",
    "|**2**| **Data Cleaning & Processing**|\n",
    "|||**2.1.**  **Dataset functions as a relational dataset**, linking the channel_data and video_data to represent how these entities are interconnected\n",
    "|||**2.2.** **Dataset** presenting all the **channel basic info and statistics**\n",
    "|||**2.3.** **Dataset** presenting basic information and statistics for **all videos uploaded by the channels**\n",
    "||| **2.4.1.**  **Dataset** presenting **comments and threads data** for 100 randomly sampled videos\n",
    "|||**2.4.2.**  **Anonymization of Usernames** column of Dataset presenting comments and threads data for 100 randomly sampled videos"
   ]
  },
  {
   "cell_type": "markdown",
   "id": "c61aa4d4",
   "metadata": {},
   "source": [
    "<span style=\"color: white; background-color: #145c02; padding: 2px; border-radius: 3px;\">\n",
    "Libraries used: </span>\n",
    "\n",
    "*this section lists all the libraries required for data collection, cleaning, analysis, and visualization in this project.*"
   ]
  },
  {
   "cell_type": "markdown",
   "id": "f8e00756",
   "metadata": {},
   "source": [
    "<span style=\"color:#145c02\"> **Data Collection** </span> "
   ]
  },
  {
   "cell_type": "code",
   "execution_count": 1,
   "id": "e7a81b82",
   "metadata": {},
   "outputs": [],
   "source": [
    "from googleapiclient.discovery import build #for YouTube API access\n",
    "from bs4 import BeautifulSoup #for HTML parsing during web scraping\n",
    "import requests #for making HTTP requests\n",
    "import urllib.parse #for encoding URLs\n",
    "from fake_useragent import UserAgent #for generating random user agents-in scraping"
   ]
  },
  {
   "cell_type": "code",
   "execution_count": 2,
   "id": "da49a9cb",
   "metadata": {},
   "outputs": [],
   "source": [
    "import time #for adding delays between API or scraping requests\n",
    "import random #for using random wait times in scraping to avoid detection\n",
    "from tqdm import tqdm #for progress bars during loops\n",
    "import re #for regular expressions to clean or parse text\n",
    "import json #for handling JSON responses the API"
   ]
  },
  {
   "cell_type": "markdown",
   "id": "add5bd65",
   "metadata": {},
   "source": [
    "<span style=\"color:#145c02\"> **Data Cleaning, Processing, Analysis** </span> "
   ]
  },
  {
   "cell_type": "code",
   "execution_count": 3,
   "id": "fb916440",
   "metadata": {},
   "outputs": [],
   "source": [
    "import pandas as pd #for working with structured datasets\n",
    "import numpy as np #for numerical computations\n",
    "import datetime  # For handling date/time conversions and computations\n",
    "from isodate import parse_duration #for handling ISO 8601 format commonly used in APIs"
   ]
  },
  {
   "cell_type": "code",
   "execution_count": 4,
   "id": "d9af5cff",
   "metadata": {},
   "outputs": [],
   "source": [
    "import hashlib #provides secure hashing algorithms like sha256 for anonymizing sensitive data"
   ]
  },
  {
   "cell_type": "code",
   "execution_count": 5,
   "id": "b296b436",
   "metadata": {},
   "outputs": [],
   "source": [
    "from collections import Counter"
   ]
  },
  {
   "cell_type": "code",
   "execution_count": 6,
   "id": "f5952776",
   "metadata": {},
   "outputs": [],
   "source": [
    "import statsmodels.api as sm #for statistical analysis and regression modeling\n",
    "from statsmodels.formula.api import ols #for building regression models using formulas"
   ]
  },
  {
   "cell_type": "code",
   "execution_count": 7,
   "id": "4157b170",
   "metadata": {},
   "outputs": [],
   "source": [
    "from statsmodels.stats.outliers_influence import variance_inflation_factor"
   ]
  },
  {
   "cell_type": "code",
   "execution_count": 8,
   "id": "9e47182d",
   "metadata": {},
   "outputs": [],
   "source": [
    "from sklearn.preprocessing import StandardScaler #for normalizing/standardizing data\n",
    "from sklearn.model_selection import train_test_split #for splitting data into training/testing sets\n",
    "from sklearn.metrics import mean_squared_error, accuracy_score #for model evaluation"
   ]
  },
  {
   "cell_type": "markdown",
   "id": "4529c127",
   "metadata": {},
   "source": [
    "<span style=\"color:#145c02\">**Visualization**</span> "
   ]
  },
  {
   "cell_type": "code",
   "execution_count": 9,
   "id": "da602810",
   "metadata": {},
   "outputs": [],
   "source": [
    "import matplotlib as plt #core library for visualizations\n",
    "import matplotlib.pyplot as plt #for plotting and customizing figures\n",
    "import seaborn as sns #for statistical data visualizations\n",
    "import plotly.express as px #for interactive and advanced plotes\n",
    "from wordcloud import WordCloud #for generating word clouds,text analysis"
   ]
  },
  {
   "cell_type": "markdown",
   "id": "59a8b2ab",
   "metadata": {},
   "source": [
    "# <span style=\"color:#1d2224\"> **1 | Data Collection** </span>"
   ]
  },
  {
   "cell_type": "markdown",
   "id": "ae2a589e",
   "metadata": {},
   "source": [
    "# <span style=\"color:#940000\"> **1.1. | YouTube API** </span> "
   ]
  },
  {
   "cell_type": "markdown",
   "id": "11eab7d5",
   "metadata": {},
   "source": [
    "The **YouTube API**, provided by Google Developers, offers **access to YouTube Analytics**, which is highly valuable for researchers. Detailed information and **documentation** about the YouTube API can be found on the official **YouTube for Developers page**. https://developers.google.com/youtube/v3/docs\n",
    "\n",
    "*It includes comprehensive instructions about the types of data you can access, the data format, usage limitations, and other useful information.*"
   ]
  },
  {
   "cell_type": "code",
   "execution_count": 251,
   "id": "7fbba945",
   "metadata": {},
   "outputs": [],
   "source": [
    "api_key = 'myKEY'\n",
    "youtube= build('youtube', 'v3', developerKey=api_key)"
   ]
  },
  {
   "cell_type": "markdown",
   "id": "327c62f7",
   "metadata": {},
   "source": [
    "### <span style=\"color:#940000\"> **1.2. | YouTube API Call 1: Channel Ids & Data** </span> "
   ]
  },
  {
   "cell_type": "markdown",
   "id": "87bbd119",
   "metadata": {},
   "source": [
    "Function to get Channel IDs from Creator's youtube usernames"
   ]
  },
  {
   "cell_type": "code",
   "execution_count": 22,
   "id": "eb3def4f",
   "metadata": {},
   "outputs": [],
   "source": [
    "def get_channel_ids_from_usernames_via_search(youtube, usernames):\n",
    "    results = []\n",
    "    for username in usernames:\n",
    "        try:\n",
    "            request = youtube.search().list(\n",
    "                part=\"snippet\",\n",
    "                q=username,\n",
    "                type=\"channel\",\n",
    "                maxResults=1\n",
    "            )\n",
    "            response = request.execute()\n",
    "            if 'items' in response and len(response['items']) > 0:\n",
    "                results.append({'Username': username, 'Channel_ID': response['items'][0]['id']['channelId']})\n",
    "            else:\n",
    "                results.append({'Username': username, 'Channel_ID': None})\n",
    "        except Exception as e:\n",
    "            print(f\"Error retrieving channel ID for username '{username}': {e}\")\n",
    "            results.append({'Username': username, 'Channel_ID': None})\n",
    "\n",
    "    return results"
   ]
  },
  {
   "cell_type": "code",
   "execution_count": 23,
   "id": "dcb87c2d",
   "metadata": {},
   "outputs": [],
   "source": [
    "results = get_channel_ids_from_usernames_via_search(youtube, channel_usernames)"
   ]
  },
  {
   "cell_type": "code",
   "execution_count": 24,
   "id": "f7281b73",
   "metadata": {},
   "outputs": [],
   "source": [
    "channel_names_ids = pd.DataFrame(results)"
   ]
  },
  {
   "cell_type": "code",
   "execution_count": 25,
   "id": "24732c00",
   "metadata": {},
   "outputs": [],
   "source": [
    "channel_names_ids.to_csv('Channel_Names_IDs.csv',index=False)"
   ]
  },
  {
   "cell_type": "code",
   "execution_count": 43,
   "id": "32940a31",
   "metadata": {},
   "outputs": [
    {
     "data": {
      "text/html": [
       "<div>\n",
       "<style scoped>\n",
       "    .dataframe tbody tr th:only-of-type {\n",
       "        vertical-align: middle;\n",
       "    }\n",
       "\n",
       "    .dataframe tbody tr th {\n",
       "        vertical-align: top;\n",
       "    }\n",
       "\n",
       "    .dataframe thead th {\n",
       "        text-align: right;\n",
       "    }\n",
       "</style>\n",
       "<table border=\"1\" class=\"dataframe\">\n",
       "  <thead>\n",
       "    <tr style=\"text-align: right;\">\n",
       "      <th></th>\n",
       "      <th>Username</th>\n",
       "      <th>Channel_ID</th>\n",
       "    </tr>\n",
       "  </thead>\n",
       "  <tbody>\n",
       "    <tr>\n",
       "      <th>0</th>\n",
       "      <td>N/A</td>\n",
       "      <td>UC97CozuZ0Zr9TP7Xfo1ISlw</td>\n",
       "    </tr>\n",
       "    <tr>\n",
       "      <th>1</th>\n",
       "      <td>katerinalioliouofficial</td>\n",
       "      <td>UCP8dWXxd3pGUG8S8DiHQDVg</td>\n",
       "    </tr>\n",
       "    <tr>\n",
       "      <th>2</th>\n",
       "      <td>zenith.greece</td>\n",
       "      <td>UCwvPiopiZ1v9ygZvN88k2JA</td>\n",
       "    </tr>\n",
       "    <tr>\n",
       "      <th>3</th>\n",
       "      <td>mcdonaldsgreece6193</td>\n",
       "      <td>UCDohft-LyivpohtUgw8Ukww</td>\n",
       "    </tr>\n",
       "    <tr>\n",
       "      <th>4</th>\n",
       "      <td>deigr</td>\n",
       "      <td>UCByqwwMSyHsd3xbWCMls1Gg</td>\n",
       "    </tr>\n",
       "  </tbody>\n",
       "</table>\n",
       "</div>"
      ],
      "text/plain": [
       "                  Username                Channel_ID\n",
       "0                      N/A  UC97CozuZ0Zr9TP7Xfo1ISlw\n",
       "1  katerinalioliouofficial  UCP8dWXxd3pGUG8S8DiHQDVg\n",
       "2            zenith.greece  UCwvPiopiZ1v9ygZvN88k2JA\n",
       "3      mcdonaldsgreece6193  UCDohft-LyivpohtUgw8Ukww\n",
       "4                    deigr  UCByqwwMSyHsd3xbWCMls1Gg"
      ]
     },
     "execution_count": 43,
     "metadata": {},
     "output_type": "execute_result"
    }
   ],
   "source": [
    "channel_names_ids.head(5)"
   ]
  },
  {
   "cell_type": "code",
   "execution_count": 99,
   "id": "fd33c6cb",
   "metadata": {},
   "outputs": [
    {
     "name": "stdout",
     "output_type": "stream",
     "text": [
      "<class 'pandas.core.frame.DataFrame'>\n",
      "RangeIndex: 51 entries, 0 to 50\n",
      "Data columns (total 2 columns):\n",
      " #   Column      Non-Null Count  Dtype \n",
      "---  ------      --------------  ----- \n",
      " 0   Username    51 non-null     object\n",
      " 1   Channel_ID  51 non-null     object\n",
      "dtypes: object(2)\n",
      "memory usage: 948.0+ bytes\n"
     ]
    }
   ],
   "source": [
    "channel_names_ids.info()"
   ]
  },
  {
   "cell_type": "markdown",
   "id": "630d37ab",
   "metadata": {},
   "source": [
    "<span style=\"color: white; background-color: red; padding: 2px; border-radius: 3px;\">\n",
    "Note: </span>\n",
    "\n",
    "At this stage, I will remove specific channels associated with brands, such as energy providers (e.g., dei.gr) and global fast-food companies (e.g., McDonald's).\n",
    "\n",
    "*These types of channels are typically used by companies to upload and share advertisements rather than organic content. Since these videos are promoted by algorithms to reach specific view thresholds, they are not representative of natural audience engagement. Including such channels in the analysis would introduce inconsistencies, especially when comparing interactivity and channel growth with other creators.*\n",
    "\n",
    "Additionally, I will also exclude record companies and singers/artists, as this type of content belongs to a specific category where user engagement and behavior differ significantly from entertainment-focused channels.\n",
    "\n",
    "Therefore, **this project will focus exclusively on creators who produce Greek content** within categories such as entertainment (excluding music), education, comedy, beauty, and similar fields."
   ]
  },
  {
   "cell_type": "code",
   "execution_count": 39,
   "id": "372c1e76",
   "metadata": {},
   "outputs": [],
   "source": [
    "channels_removed = [\n",
    "    'zenith.greece', \n",
    "    'mcdonaldsgreece6193',\n",
    "    'deigr','nerdom_gr',\n",
    "    'goodvybzmusic',\n",
    "    'luigigr',\n",
    "    'ant1823',\n",
    "    'eurobankgroup',\n",
    "    'offbeatrecordsgr',\n",
    "    'katerinalioliouofficial',\n",
    "    'nikosportokaloglouofficial',\n",
    "    'cknd_records',\n",
    "    'lilatrianti',\n",
    "    'N/A'\n",
    "]"
   ]
  },
  {
   "cell_type": "code",
   "execution_count": 47,
   "id": "03667fd8",
   "metadata": {},
   "outputs": [],
   "source": [
    "channels_ids_cleaned = channel_names_ids[~channel_names_ids['Username'].isin(channels_removed)]"
   ]
  },
  {
   "cell_type": "code",
   "execution_count": 49,
   "id": "c83c63ae",
   "metadata": {},
   "outputs": [
    {
     "data": {
      "text/html": [
       "<div>\n",
       "<style scoped>\n",
       "    .dataframe tbody tr th:only-of-type {\n",
       "        vertical-align: middle;\n",
       "    }\n",
       "\n",
       "    .dataframe tbody tr th {\n",
       "        vertical-align: top;\n",
       "    }\n",
       "\n",
       "    .dataframe thead th {\n",
       "        text-align: right;\n",
       "    }\n",
       "</style>\n",
       "<table border=\"1\" class=\"dataframe\">\n",
       "  <thead>\n",
       "    <tr style=\"text-align: right;\">\n",
       "      <th></th>\n",
       "      <th>Username</th>\n",
       "      <th>Channel_ID</th>\n",
       "    </tr>\n",
       "  </thead>\n",
       "  <tbody>\n",
       "    <tr>\n",
       "      <th>6</th>\n",
       "      <td>gl_show</td>\n",
       "      <td>UC5_mz3DN_m9dTlsyH1Hy2BA</td>\n",
       "    </tr>\n",
       "    <tr>\n",
       "      <th>7</th>\n",
       "      <td>xristosraftas</td>\n",
       "      <td>UCA9IL3pf55xRhTJ4fRxAzEw</td>\n",
       "    </tr>\n",
       "    <tr>\n",
       "      <th>8</th>\n",
       "      <td>unboxholics</td>\n",
       "      <td>UCjBCvQBVTh4XjPwtSMQNcFg</td>\n",
       "    </tr>\n",
       "    <tr>\n",
       "      <th>9</th>\n",
       "      <td>persadpopara</td>\n",
       "      <td>UC5ISG0x-4OwC2VrnRxWLwzA</td>\n",
       "    </tr>\n",
       "    <tr>\n",
       "      <th>10</th>\n",
       "      <td>george_tala</td>\n",
       "      <td>UChOKNVWJLqGN2DB1ZcpNHKA</td>\n",
       "    </tr>\n",
       "  </tbody>\n",
       "</table>\n",
       "</div>"
      ],
      "text/plain": [
       "         Username                Channel_ID\n",
       "6         gl_show  UC5_mz3DN_m9dTlsyH1Hy2BA\n",
       "7   xristosraftas  UCA9IL3pf55xRhTJ4fRxAzEw\n",
       "8     unboxholics  UCjBCvQBVTh4XjPwtSMQNcFg\n",
       "9    persadpopara  UC5ISG0x-4OwC2VrnRxWLwzA\n",
       "10    george_tala  UChOKNVWJLqGN2DB1ZcpNHKA"
      ]
     },
     "execution_count": 49,
     "metadata": {},
     "output_type": "execute_result"
    }
   ],
   "source": [
    "channels_ids_cleaned.head()"
   ]
  },
  {
   "cell_type": "code",
   "execution_count": 119,
   "id": "9836e92d",
   "metadata": {},
   "outputs": [],
   "source": [
    "channels_ids_cleaned.to_csv('Channel_Names_IDs.csv',index=False)"
   ]
  },
  {
   "cell_type": "code",
   "execution_count": 100,
   "id": "57630ebf",
   "metadata": {},
   "outputs": [
    {
     "name": "stdout",
     "output_type": "stream",
     "text": [
      "<class 'pandas.core.frame.DataFrame'>\n",
      "Index: 37 entries, 6 to 50\n",
      "Data columns (total 2 columns):\n",
      " #   Column      Non-Null Count  Dtype \n",
      "---  ------      --------------  ----- \n",
      " 0   Username    37 non-null     object\n",
      " 1   Channel_ID  37 non-null     object\n",
      "dtypes: object(2)\n",
      "memory usage: 888.0+ bytes\n"
     ]
    }
   ],
   "source": [
    "channels_ids_cleaned.info()"
   ]
  },
  {
   "cell_type": "code",
   "execution_count": 50,
   "id": "0f17c849",
   "metadata": {},
   "outputs": [],
   "source": [
    "channellist_ids = channels_ids_cleaned['Channel_ID'].tolist()"
   ]
  },
  {
   "cell_type": "code",
   "execution_count": 53,
   "id": "00695d61",
   "metadata": {},
   "outputs": [
    {
     "data": {
      "text/plain": [
       "['UC9tvpZxjAnJC4xFLcSHpr6A',\n",
       " 'UCWAl9Nd_PB9vp_KfivDgd4A',\n",
       " 'UC1KjWRBCUGvxDkrhu_-UBWg',\n",
       " 'UCHxGlwqoQf6jUQZX4WYIFHA',\n",
       " 'UC1cDpj_OXMMlpEmWpDbaGsg']"
      ]
     },
     "execution_count": 53,
     "metadata": {},
     "output_type": "execute_result"
    }
   ],
   "source": [
    "channellist_ids[5:10]"
   ]
  },
  {
   "cell_type": "markdown",
   "id": "c22488c9",
   "metadata": {},
   "source": [
    "Function to get Channel Data"
   ]
  },
  {
   "cell_type": "code",
   "execution_count": 74,
   "id": "c3a2f0bf",
   "metadata": {},
   "outputs": [],
   "source": [
    "def get_channel_stats(youtube, channel_ids):\n",
    "    all_data=[]\n",
    "    request = youtube.channels().list(\n",
    "        part = 'snippet,contentDetails,statistics',\n",
    "            id= ','.join(channel_ids))\n",
    "    \n",
    "    response = request.execute()\n",
    "\n",
    "    for i in range(len(response['items'])):\n",
    "        data = dict(\n",
    "                        Channel_name=response['items'][i]['snippet']['title'],\n",
    "                        Description=response['items'][i]['snippet']['description'],\n",
    "                        Subscribers=response['items'][i]['statistics']['subscriberCount'],\n",
    "                        ViewCount=response['items'][i]['statistics']['viewCount'],\n",
    "                        Total_Videos=response['items'][i]['statistics']['videoCount'],\n",
    "                        Playlist_id=response['items'][i]['contentDetails']['relatedPlaylists']['uploads'],\n",
    "                    )\n",
    "        all_data.append(data)\n",
    "\n",
    "    return all_data"
   ]
  },
  {
   "cell_type": "code",
   "execution_count": 55,
   "id": "a654a24e",
   "metadata": {},
   "outputs": [],
   "source": [
    "channel_all_data= get_channel_stats(youtube, channellist_ids)"
   ]
  },
  {
   "cell_type": "code",
   "execution_count": 56,
   "id": "1039e1eb",
   "metadata": {},
   "outputs": [],
   "source": [
    "channelData= pd.DataFrame(channel_all_data)"
   ]
  },
  {
   "cell_type": "code",
   "execution_count": 58,
   "id": "d2606ccb",
   "metadata": {},
   "outputs": [],
   "source": [
    "channelData.to_csv('channelData.csv',index=False)"
   ]
  },
  {
   "cell_type": "code",
   "execution_count": 66,
   "id": "5d844dd3",
   "metadata": {},
   "outputs": [
    {
     "data": {
      "text/html": [
       "<div>\n",
       "<style scoped>\n",
       "    .dataframe tbody tr th:only-of-type {\n",
       "        vertical-align: middle;\n",
       "    }\n",
       "\n",
       "    .dataframe tbody tr th {\n",
       "        vertical-align: top;\n",
       "    }\n",
       "\n",
       "    .dataframe thead th {\n",
       "        text-align: right;\n",
       "    }\n",
       "</style>\n",
       "<table border=\"1\" class=\"dataframe\">\n",
       "  <thead>\n",
       "    <tr style=\"text-align: right;\">\n",
       "      <th></th>\n",
       "      <th>Channel_name</th>\n",
       "      <th>Description</th>\n",
       "      <th>Subscribers</th>\n",
       "      <th>ViewCount</th>\n",
       "      <th>Total_Videos</th>\n",
       "      <th>Playlist_id</th>\n",
       "    </tr>\n",
       "  </thead>\n",
       "  <tbody>\n",
       "    <tr>\n",
       "      <th>0</th>\n",
       "      <td>Greekonomics</td>\n",
       "      <td>Πως η Οικονομία επηρεάζει την Κοινωνία!\\n\\nΤα ...</td>\n",
       "      <td>231000</td>\n",
       "      <td>13154190</td>\n",
       "      <td>60</td>\n",
       "      <td>UU1KjWRBCUGvxDkrhu_-UBWg</td>\n",
       "    </tr>\n",
       "    <tr>\n",
       "      <th>1</th>\n",
       "      <td>Dat Lilly</td>\n",
       "      <td>Νέο βίντεο κάθε Κυριακή ❤\\nThank's for being h...</td>\n",
       "      <td>521000</td>\n",
       "      <td>100038173</td>\n",
       "      <td>190</td>\n",
       "      <td>UU9WYita8NlpXTcmn_js5YzQ</td>\n",
       "    </tr>\n",
       "    <tr>\n",
       "      <th>2</th>\n",
       "      <td>Pavlos Makris</td>\n",
       "      <td>Εδώ για να σε διασκεδάσω!😊\\nΠάτα το Like &amp; Sub...</td>\n",
       "      <td>12500</td>\n",
       "      <td>1611596</td>\n",
       "      <td>33</td>\n",
       "      <td>UUhWPS3NiUzeRmh8DBmtvYpA</td>\n",
       "    </tr>\n",
       "    <tr>\n",
       "      <th>3</th>\n",
       "      <td>Eponimos</td>\n",
       "      <td>ναι.</td>\n",
       "      <td>392000</td>\n",
       "      <td>95878785</td>\n",
       "      <td>513</td>\n",
       "      <td>UUFOasUEk9Pkr8YeJxGc88Lw</td>\n",
       "    </tr>\n",
       "    <tr>\n",
       "      <th>4</th>\n",
       "      <td>Unboxholics</td>\n",
       "      <td>TIME WELL WASTED.\\nGaming | Tech | Cinema | En...</td>\n",
       "      <td>1070000</td>\n",
       "      <td>442841695</td>\n",
       "      <td>1546</td>\n",
       "      <td>UUjBCvQBVTh4XjPwtSMQNcFg</td>\n",
       "    </tr>\n",
       "  </tbody>\n",
       "</table>\n",
       "</div>"
      ],
      "text/plain": [
       "    Channel_name                                        Description  \\\n",
       "0   Greekonomics  Πως η Οικονομία επηρεάζει την Κοινωνία!\\n\\nΤα ...   \n",
       "1      Dat Lilly  Νέο βίντεο κάθε Κυριακή ❤\\nThank's for being h...   \n",
       "2  Pavlos Makris  Εδώ για να σε διασκεδάσω!😊\\nΠάτα το Like & Sub...   \n",
       "3       Eponimos                                               ναι.   \n",
       "4    Unboxholics  TIME WELL WASTED.\\nGaming | Tech | Cinema | En...   \n",
       "\n",
       "  Subscribers  ViewCount Total_Videos               Playlist_id  \n",
       "0      231000   13154190           60  UU1KjWRBCUGvxDkrhu_-UBWg  \n",
       "1      521000  100038173          190  UU9WYita8NlpXTcmn_js5YzQ  \n",
       "2       12500    1611596           33  UUhWPS3NiUzeRmh8DBmtvYpA  \n",
       "3      392000   95878785          513  UUFOasUEk9Pkr8YeJxGc88Lw  \n",
       "4     1070000  442841695         1546  UUjBCvQBVTh4XjPwtSMQNcFg  "
      ]
     },
     "execution_count": 66,
     "metadata": {},
     "output_type": "execute_result"
    }
   ],
   "source": [
    "channelData.head()"
   ]
  },
  {
   "cell_type": "code",
   "execution_count": 70,
   "id": "4076475f",
   "metadata": {},
   "outputs": [],
   "source": [
    "channelData['Total_Videos'] = channelData['Total_Videos'].astype('int')"
   ]
  },
  {
   "cell_type": "code",
   "execution_count": 71,
   "id": "d5ca1439",
   "metadata": {},
   "outputs": [
    {
     "data": {
      "text/plain": [
       "13970"
      ]
     },
     "execution_count": 71,
     "metadata": {},
     "output_type": "execute_result"
    }
   ],
   "source": [
    "channelData['Total_Videos'].sum()"
   ]
  },
  {
   "cell_type": "markdown",
   "id": "7332b61c",
   "metadata": {},
   "source": [
    "### <span style=\"color:#940000\"> **1.3 | YouTube API Call 2: Video Data** </span> "
   ]
  },
  {
   "cell_type": "markdown",
   "id": "f228e413",
   "metadata": {},
   "source": [
    "To access and retrieve video data, the process begins by collecting the playlist ID corresponding to the playlist that contains all videos uploaded to a channel since its creation. Once the playlist ID is obtained, the individual video IDs within the playlist can be retrieved. These video IDs are then used to gather detailed information for each video."
   ]
  },
  {
   "cell_type": "code",
   "execution_count": 67,
   "id": "454e23db",
   "metadata": {},
   "outputs": [],
   "source": [
    "playlist_ids = channelData['Playlist_id'].tolist()"
   ]
  },
  {
   "cell_type": "markdown",
   "id": "0aee9736",
   "metadata": {},
   "source": [
    "Since the **total number of videos uploaded by all channels is 13,970**, an equal number of entries is expected when retrieving the collected **video IDs** from the 37 playlists of the channels that have already been gathered."
   ]
  },
  {
   "cell_type": "markdown",
   "id": "e3b822d9",
   "metadata": {},
   "source": [
    "Function to get from the playlist_id all the video ids"
   ]
  },
  {
   "cell_type": "code",
   "execution_count": 77,
   "id": "6772b62c",
   "metadata": {},
   "outputs": [],
   "source": [
    "def get_videos_ids(youtube, playlist_ids):\n",
    "    all_video_data = []\n",
    "\n",
    "    for playlist_id in tqdm(playlist_ids, desc=\"Getting video IDs from playlists\"):\n",
    "        try:\n",
    "            next_page_token = None\n",
    "            more_pages = True\n",
    "\n",
    "            while more_pages:\n",
    "                request = youtube.playlistItems().list(\n",
    "                    part='snippet,contentDetails',\n",
    "                    playlistId=playlist_id,\n",
    "                    maxResults=50,\n",
    "                    pageToken=next_page_token\n",
    "                )\n",
    "                response = request.execute()\n",
    "\n",
    "                for item in response['items']:\n",
    "                    video_data = {\n",
    "                        \"Playlist_Id\": playlist_id,\n",
    "                        \"Video_Id\": item['contentDetails']['videoId'],\n",
    "                        \"Channel_Id\": item['snippet']['channelId']\n",
    "                    }\n",
    "                    all_video_data.append(video_data)\n",
    "\n",
    "                next_page_token = response.get('nextPageToken')\n",
    "                more_pages = next_page_token is not None\n",
    "\n",
    "        except Exception as e:\n",
    "            print(f\"Error getting video IDs from playlist '{playlist_id}': {e}\")\n",
    "    \n",
    "    return pd.DataFrame(all_video_data)"
   ]
  },
  {
   "cell_type": "code",
   "execution_count": 78,
   "id": "eb86b225",
   "metadata": {},
   "outputs": [
    {
     "name": "stderr",
     "output_type": "stream",
     "text": [
      "Getting video IDs from playlists: 100%|█████████| 37/37 [01:15<00:00,  2.04s/it]\n"
     ]
    }
   ],
   "source": [
    "video_ids = get_videos_ids(youtube, playlist_ids)"
   ]
  },
  {
   "cell_type": "code",
   "execution_count": 80,
   "id": "6f7778c1",
   "metadata": {},
   "outputs": [],
   "source": [
    "video_ids.to_csv('Video_ids.csv',index=False)"
   ]
  },
  {
   "cell_type": "code",
   "execution_count": 83,
   "id": "2a906ee8",
   "metadata": {},
   "outputs": [
    {
     "name": "stdout",
     "output_type": "stream",
     "text": [
      "<class 'pandas.core.frame.DataFrame'>\n",
      "RangeIndex: 13780 entries, 0 to 13779\n",
      "Data columns (total 3 columns):\n",
      " #   Column       Non-Null Count  Dtype \n",
      "---  ------       --------------  ----- \n",
      " 0   Playlist_Id  13780 non-null  object\n",
      " 1   Video_Id     13780 non-null  object\n",
      " 2   Channel_Id   13780 non-null  object\n",
      "dtypes: object(3)\n",
      "memory usage: 323.1+ KB\n"
     ]
    }
   ],
   "source": [
    "video_ids.info()"
   ]
  },
  {
   "cell_type": "markdown",
   "id": "04d414c4",
   "metadata": {},
   "source": [
    "Function to get from all the videos' details from all videos uploaded to the channels "
   ]
  },
  {
   "cell_type": "code",
   "execution_count": 88,
   "id": "05c3bc39",
   "metadata": {},
   "outputs": [],
   "source": [
    "def get_video_details(youtube, video_ids):\n",
    "\n",
    "    all_videos_stats = []\n",
    "    video_ids2 = video_ids['Video_Id'].tolist()\n",
    "    \n",
    "    for i in tqdm(range(0, len(video_ids), 50), desc=\"Fetching video details\"):\n",
    "        try:\n",
    "            request = youtube.videos().list(\n",
    "                part='snippet,statistics,contentDetails',\n",
    "                id=','.join(video_ids2[i:i+50])\n",
    "            )\n",
    "            response = request.execute()\n",
    "\n",
    "            for video in response['items']:\n",
    "                matching_row = video_ids.loc[video_ids['Video_Id'] == video['id']].iloc[0]\n",
    "                video_stats = {\n",
    "                    \"Id\": video['id'],\n",
    "                    \"Title\": video['snippet']['title'],\n",
    "                    \"Published_Date\": video['snippet']['publishedAt'],\n",
    "                    \"Description\": video['snippet']['description'],\n",
    "                    \"Tags\": video['snippet'].get('tags', []),\n",
    "                    \"Views\": video['statistics'].get('viewCount', 0),\n",
    "                    \"Likes\": video['statistics'].get('likeCount', 0),\n",
    "                    \"Dislikes\": video['statistics'].get('dislikeCount', 0),\n",
    "                    \"Comments\": video['statistics'].get('commentCount', 0),\n",
    "                    \"Channel_Id\": matching_row['Channel_Id'],\n",
    "                    \"Playlist_Id\": matching_row['Playlist_Id'],\n",
    "                    \"Video_Length\": video['contentDetails']['duration']\n",
    "                }\n",
    "                all_videos_stats.append(video_stats)\n",
    "        except Exception as e:\n",
    "            print(f\"Error fetching details for videos batch: {e}\")\n",
    "    \n",
    "    return pd.DataFrame(all_videos_stats)"
   ]
  },
  {
   "cell_type": "code",
   "execution_count": 89,
   "id": "cd50587c",
   "metadata": {},
   "outputs": [
    {
     "name": "stderr",
     "output_type": "stream",
     "text": [
      "Fetching video details: 100%|█████████████████| 276/276 [01:16<00:00,  3.62it/s]\n"
     ]
    }
   ],
   "source": [
    "videoData = get_video_details(youtube, video_ids)"
   ]
  },
  {
   "cell_type": "code",
   "execution_count": 90,
   "id": "567d1b95",
   "metadata": {},
   "outputs": [],
   "source": [
    "videoData.to_csv('VideoData.csv',index=False)"
   ]
  },
  {
   "cell_type": "code",
   "execution_count": 92,
   "id": "aca9c5c0",
   "metadata": {},
   "outputs": [
    {
     "name": "stdout",
     "output_type": "stream",
     "text": [
      "<class 'pandas.core.frame.DataFrame'>\n",
      "RangeIndex: 13780 entries, 0 to 13779\n",
      "Data columns (total 12 columns):\n",
      " #   Column          Non-Null Count  Dtype \n",
      "---  ------          --------------  ----- \n",
      " 0   Id              13780 non-null  object\n",
      " 1   Title           13780 non-null  object\n",
      " 2   Published_Date  13780 non-null  object\n",
      " 3   Description     13780 non-null  object\n",
      " 4   Tags            13780 non-null  object\n",
      " 5   Views           13780 non-null  object\n",
      " 6   Likes           13780 non-null  object\n",
      " 7   Dislikes        13780 non-null  int64 \n",
      " 8   Comments        13780 non-null  object\n",
      " 9   Channel_Id      13780 non-null  object\n",
      " 10  Playlist_Id     13780 non-null  object\n",
      " 11  Video_Length    13780 non-null  object\n",
      "dtypes: int64(1), object(11)\n",
      "memory usage: 1.3+ MB\n"
     ]
    }
   ],
   "source": [
    "videoData.info()ho"
   ]
  },
  {
   "cell_type": "code",
   "execution_count": 93,
   "id": "eafb3822",
   "metadata": {},
   "outputs": [],
   "source": [
    "videoData['Comments'] = videoData['Comments'].astype('int')"
   ]
  },
  {
   "cell_type": "code",
   "execution_count": 94,
   "id": "8a5bf6aa",
   "metadata": {},
   "outputs": [
    {
     "data": {
      "text/plain": [
       "6989308"
      ]
     },
     "execution_count": 94,
     "metadata": {},
     "output_type": "execute_result"
    }
   ],
   "source": [
    "videoData['Comments'].sum()"
   ]
  },
  {
   "cell_type": "markdown",
   "id": "8871e10e",
   "metadata": {},
   "source": [
    "### <span style=\"color:#940000\"> **1.4. | YouTube API Call 3: Comments & Threads Data** </span> "
   ]
  },
  {
   "cell_type": "markdown",
   "id": "59cb602d",
   "metadata": {},
   "source": [
    "At this stage, to **track whether the creator interacts with the audience while collecting comments and threads**, the **channels_ids_cleaned data frame can be merged with the video_ids data frame**. This merge adds the Username of the channel owner to each video, enabling comparison between the creator's username and the authorDisplayName of comments or replies."
   ]
  },
  {
   "cell_type": "code",
   "execution_count": 101,
   "id": "22563b79",
   "metadata": {},
   "outputs": [],
   "source": [
    "merged_data = pd.merge(video_ids, channels_ids_cleaned, how='left', left_on='Channel_Id', right_on='Channel_ID')"
   ]
  },
  {
   "cell_type": "code",
   "execution_count": 104,
   "id": "73604d9b",
   "metadata": {},
   "outputs": [
    {
     "data": {
      "text/html": [
       "<div>\n",
       "<style scoped>\n",
       "    .dataframe tbody tr th:only-of-type {\n",
       "        vertical-align: middle;\n",
       "    }\n",
       "\n",
       "    .dataframe tbody tr th {\n",
       "        vertical-align: top;\n",
       "    }\n",
       "\n",
       "    .dataframe thead th {\n",
       "        text-align: right;\n",
       "    }\n",
       "</style>\n",
       "<table border=\"1\" class=\"dataframe\">\n",
       "  <thead>\n",
       "    <tr style=\"text-align: right;\">\n",
       "      <th></th>\n",
       "      <th>Playlist_Id</th>\n",
       "      <th>Video_Id</th>\n",
       "      <th>Channel_Id</th>\n",
       "      <th>Username</th>\n",
       "      <th>Channel_ID</th>\n",
       "    </tr>\n",
       "  </thead>\n",
       "  <tbody>\n",
       "    <tr>\n",
       "      <th>0</th>\n",
       "      <td>UU1KjWRBCUGvxDkrhu_-UBWg</td>\n",
       "      <td>qIifbbutkl0</td>\n",
       "      <td>UC1KjWRBCUGvxDkrhu_-UBWg</td>\n",
       "      <td>greekonomics</td>\n",
       "      <td>UC1KjWRBCUGvxDkrhu_-UBWg</td>\n",
       "    </tr>\n",
       "    <tr>\n",
       "      <th>1</th>\n",
       "      <td>UU1KjWRBCUGvxDkrhu_-UBWg</td>\n",
       "      <td>JLQNJPg9lH4</td>\n",
       "      <td>UC1KjWRBCUGvxDkrhu_-UBWg</td>\n",
       "      <td>greekonomics</td>\n",
       "      <td>UC1KjWRBCUGvxDkrhu_-UBWg</td>\n",
       "    </tr>\n",
       "    <tr>\n",
       "      <th>2</th>\n",
       "      <td>UU1KjWRBCUGvxDkrhu_-UBWg</td>\n",
       "      <td>y6DFcf_-EzI</td>\n",
       "      <td>UC1KjWRBCUGvxDkrhu_-UBWg</td>\n",
       "      <td>greekonomics</td>\n",
       "      <td>UC1KjWRBCUGvxDkrhu_-UBWg</td>\n",
       "    </tr>\n",
       "    <tr>\n",
       "      <th>3</th>\n",
       "      <td>UU1KjWRBCUGvxDkrhu_-UBWg</td>\n",
       "      <td>KXOTXhH0-SM</td>\n",
       "      <td>UC1KjWRBCUGvxDkrhu_-UBWg</td>\n",
       "      <td>greekonomics</td>\n",
       "      <td>UC1KjWRBCUGvxDkrhu_-UBWg</td>\n",
       "    </tr>\n",
       "    <tr>\n",
       "      <th>4</th>\n",
       "      <td>UU1KjWRBCUGvxDkrhu_-UBWg</td>\n",
       "      <td>IBKZJupo064</td>\n",
       "      <td>UC1KjWRBCUGvxDkrhu_-UBWg</td>\n",
       "      <td>greekonomics</td>\n",
       "      <td>UC1KjWRBCUGvxDkrhu_-UBWg</td>\n",
       "    </tr>\n",
       "  </tbody>\n",
       "</table>\n",
       "</div>"
      ],
      "text/plain": [
       "                Playlist_Id     Video_Id                Channel_Id  \\\n",
       "0  UU1KjWRBCUGvxDkrhu_-UBWg  qIifbbutkl0  UC1KjWRBCUGvxDkrhu_-UBWg   \n",
       "1  UU1KjWRBCUGvxDkrhu_-UBWg  JLQNJPg9lH4  UC1KjWRBCUGvxDkrhu_-UBWg   \n",
       "2  UU1KjWRBCUGvxDkrhu_-UBWg  y6DFcf_-EzI  UC1KjWRBCUGvxDkrhu_-UBWg   \n",
       "3  UU1KjWRBCUGvxDkrhu_-UBWg  KXOTXhH0-SM  UC1KjWRBCUGvxDkrhu_-UBWg   \n",
       "4  UU1KjWRBCUGvxDkrhu_-UBWg  IBKZJupo064  UC1KjWRBCUGvxDkrhu_-UBWg   \n",
       "\n",
       "       Username                Channel_ID  \n",
       "0  greekonomics  UC1KjWRBCUGvxDkrhu_-UBWg  \n",
       "1  greekonomics  UC1KjWRBCUGvxDkrhu_-UBWg  \n",
       "2  greekonomics  UC1KjWRBCUGvxDkrhu_-UBWg  \n",
       "3  greekonomics  UC1KjWRBCUGvxDkrhu_-UBWg  \n",
       "4  greekonomics  UC1KjWRBCUGvxDkrhu_-UBWg  "
      ]
     },
     "execution_count": 104,
     "metadata": {},
     "output_type": "execute_result"
    }
   ],
   "source": [
    "merged_data.head()"
   ]
  },
  {
   "cell_type": "code",
   "execution_count": 103,
   "id": "ba2792d8",
   "metadata": {},
   "outputs": [
    {
     "name": "stdout",
     "output_type": "stream",
     "text": [
      "<class 'pandas.core.frame.DataFrame'>\n",
      "RangeIndex: 13780 entries, 0 to 13779\n",
      "Data columns (total 5 columns):\n",
      " #   Column       Non-Null Count  Dtype \n",
      "---  ------       --------------  ----- \n",
      " 0   Playlist_Id  13780 non-null  object\n",
      " 1   Video_Id     13780 non-null  object\n",
      " 2   Channel_Id   13780 non-null  object\n",
      " 3   Username     13780 non-null  object\n",
      " 4   Channel_ID   13780 non-null  object\n",
      "dtypes: object(5)\n",
      "memory usage: 538.4+ KB\n"
     ]
    }
   ],
   "source": [
    "merged_data.info()"
   ]
  },
  {
   "cell_type": "code",
   "execution_count": 118,
   "id": "3c622cfa",
   "metadata": {},
   "outputs": [],
   "source": [
    "merged_data.to_csv('mergedchannelvideodata.csv',index=False)"
   ]
  },
  {
   "cell_type": "code",
   "execution_count": 249,
   "id": "2070e130",
   "metadata": {},
   "outputs": [],
   "source": [
    "merged_data= pd.read_csv('mergedchannelvideodata.csv')"
   ]
  },
  {
   "cell_type": "markdown",
   "id": "aca61a9e",
   "metadata": {},
   "source": [
    "Since the total number of **comments** posted across all videos from the channels is **6,989,308**, it is expected to retrieve the same number of comment entries when collecting comments from the **13,780 videos** belonging to the **37 channels** that have already been gathered. \n",
    "\n",
    "\n",
    "<span style=\"color: white; background-color: red; padding: 2px; border-radius: 3px;\">\n",
    "However: </span>\n",
    "\n",
    "Due to the **API's quota limitations and time constraints**, given the exceptionally large total number of comments, **a random sample of 100 videos** will be selected for the comments analysis. This approach ensures a manageable dataset while maintaining a representative sample for the study."
   ]
  },
  {
   "cell_type": "code",
   "execution_count": 250,
   "id": "c5a0d675",
   "metadata": {},
   "outputs": [],
   "source": [
    "sampled_video_ids = merged_data.sample(n=100)"
   ]
  },
  {
   "cell_type": "markdown",
   "id": "c05390d9",
   "metadata": {},
   "source": [
    "Function to get from all the videos uploaded all the comments and threads"
   ]
  },
  {
   "cell_type": "code",
   "execution_count": 252,
   "id": "bb2c66ea",
   "metadata": {},
   "outputs": [],
   "source": [
    "def get_video_comments(youtube, video_data):\n",
    "    all_video_comments = []\n",
    "\n",
    "    for _, row in tqdm(video_data.iterrows(), desc=\"Getting comments\", total=len(video_data)):\n",
    "        video_id = row['Video_Id']\n",
    "        channel_id = row['Channel_Id']\n",
    "        creator_username = row['Username']\n",
    "        next_page_token = None\n",
    "\n",
    "        while True:\n",
    "            try:\n",
    "                request = youtube.commentThreads().list(\n",
    "                    part='snippet,replies',\n",
    "                    videoId=video_id,\n",
    "                    textFormat='plainText',\n",
    "                    maxResults=100,\n",
    "                    pageToken=next_page_token\n",
    "                )\n",
    "\n",
    "                response = request.execute()\n",
    "\n",
    "                if 'error' in response:\n",
    "                    print(f\"Error: {response['error']['message']}\")\n",
    "                    break\n",
    "\n",
    "                for item in response.get('items', []):\n",
    "                    comment = item['snippet']['topLevelComment']['snippet']\n",
    "                    reply_count = 0\n",
    "                    creator_reply_count = 0\n",
    "\n",
    "                    if 'replies' in item and 'comments' in item['replies']:\n",
    "                        replies = item['replies']['comments']\n",
    "                        reply_count = len(replies)\n",
    "                        creator_reply_count = sum(\n",
    "                            1 for reply in replies \n",
    "                            if reply['snippet']['authorDisplayName'] == creator_username\n",
    "                        )\n",
    "\n",
    "                    comment_data = dict(\n",
    "                        Video_ID=video_id,\n",
    "                        Channel_ID=channel_id,\n",
    "                        User_name=comment['authorDisplayName'],\n",
    "                        Comment=comment['textDisplay'],\n",
    "                        Comment_likes=comment['likeCount'],\n",
    "                        Published_Date=comment['publishedAt'],\n",
    "                        Total_Replies=reply_count,\n",
    "                        Creator_Replies=creator_reply_count\n",
    "                    )\n",
    "\n",
    "                    all_video_comments.append(comment_data)\n",
    "\n",
    "                next_page_token = response.get('nextPageToken')\n",
    "                if not next_page_token:\n",
    "                    break\n",
    "\n",
    "                time.sleep(1)\n",
    "\n",
    "            except Exception as e:\n",
    "                print(f\"Exception getting comments from video {video_id}: {e}\")\n",
    "                break\n",
    "            \n",
    "    return all_video_comments"
   ]
  },
  {
   "cell_type": "code",
   "execution_count": null,
   "id": "414770a5",
   "metadata": {},
   "outputs": [],
   "source": [
    "video_comments = get_video_comments(youtube, sampled_video_ids)"
   ]
  },
  {
   "cell_type": "markdown",
   "id": "cbab598f",
   "metadata": {},
   "source": [
    "<span style=\"color: white; background-color: red; padding: 2px; border-radius: 3px;\">\n",
    "Note: </span>\n",
    "\n",
    "Comments can be disabled for several reasons, including the creator's choice or compliance with YouTube's policies on Kids Content. As a result, some of the sampled videos returned an **HttpError 403** with the **reason 'commentsDisabled'**, indicating that comments are not allowed on those videos."
   ]
  },
  {
   "cell_type": "code",
   "execution_count": 254,
   "id": "adf3a941",
   "metadata": {},
   "outputs": [],
   "source": [
    "commentsData = pd.DataFrame(video_comments)"
   ]
  },
  {
   "cell_type": "code",
   "execution_count": 255,
   "id": "4c81ce12",
   "metadata": {},
   "outputs": [],
   "source": [
    "commentsData.to_csv('CommentsData.csv',index=False)"
   ]
  },
  {
   "cell_type": "code",
   "execution_count": 256,
   "id": "a5c505fc",
   "metadata": {},
   "outputs": [
    {
     "name": "stdout",
     "output_type": "stream",
     "text": [
      "<class 'pandas.core.frame.DataFrame'>\n",
      "RangeIndex: 31115 entries, 0 to 31114\n",
      "Data columns (total 8 columns):\n",
      " #   Column           Non-Null Count  Dtype \n",
      "---  ------           --------------  ----- \n",
      " 0   Video_ID         31115 non-null  object\n",
      " 1   Channel_ID       31115 non-null  object\n",
      " 2   User_name        31115 non-null  object\n",
      " 3   Comment          31115 non-null  object\n",
      " 4   Comment_likes    31115 non-null  int64 \n",
      " 5   Published_Date   31115 non-null  object\n",
      " 6   Total_Replies    31115 non-null  int64 \n",
      " 7   Creator_Replies  31115 non-null  int64 \n",
      "dtypes: int64(3), object(5)\n",
      "memory usage: 1.9+ MB\n"
     ]
    }
   ],
   "source": [
    "commentsData.info()"
   ]
  },
  {
   "cell_type": "markdown",
   "id": "0ae9a82e",
   "metadata": {},
   "source": [
    "# <span style=\"color:#1d2224\"> **2 | Data Cleaning & Processing** </span>"
   ]
  },
  {
   "cell_type": "markdown",
   "id": "ad828a39",
   "metadata": {},
   "source": [
    "At this stage, all collected datasets will be thoroughly reviewed to ensure data quality and readiness for analysis. This process includes checking for missing values, verifying and correcting data types, and creating any required variables. The goal is to ensure that all necessary information is present, accurate, and formatted appropriately to proceed with the analysis seamlessly."
   ]
  },
  {
   "cell_type": "markdown",
   "id": "c73f1a41",
   "metadata": {},
   "source": [
    "## <span style=\"color:#black\"> **2.1. | Dataset functions as a relational dataset, linking the channel_data and video_data to represent how these entities are interconnected** </span> "
   ]
  },
  {
   "cell_type": "code",
   "execution_count": 8,
   "id": "f850e615",
   "metadata": {},
   "outputs": [],
   "source": [
    "info_ids = pd.read_csv('mergedchannelvideodata.csv')"
   ]
  },
  {
   "cell_type": "code",
   "execution_count": 24,
   "id": "69193730",
   "metadata": {},
   "outputs": [
    {
     "data": {
      "text/html": [
       "<div>\n",
       "<style scoped>\n",
       "    .dataframe tbody tr th:only-of-type {\n",
       "        vertical-align: middle;\n",
       "    }\n",
       "\n",
       "    .dataframe tbody tr th {\n",
       "        vertical-align: top;\n",
       "    }\n",
       "\n",
       "    .dataframe thead th {\n",
       "        text-align: right;\n",
       "    }\n",
       "</style>\n",
       "<table border=\"1\" class=\"dataframe\">\n",
       "  <thead>\n",
       "    <tr style=\"text-align: right;\">\n",
       "      <th></th>\n",
       "      <th>Playlist_Id</th>\n",
       "      <th>Video_Id</th>\n",
       "      <th>Channel_Id</th>\n",
       "      <th>Username</th>\n",
       "      <th>Channel_ID</th>\n",
       "    </tr>\n",
       "  </thead>\n",
       "  <tbody>\n",
       "    <tr>\n",
       "      <th>0</th>\n",
       "      <td>UU1KjWRBCUGvxDkrhu_-UBWg</td>\n",
       "      <td>qIifbbutkl0</td>\n",
       "      <td>UC1KjWRBCUGvxDkrhu_-UBWg</td>\n",
       "      <td>greekonomics</td>\n",
       "      <td>UC1KjWRBCUGvxDkrhu_-UBWg</td>\n",
       "    </tr>\n",
       "    <tr>\n",
       "      <th>1</th>\n",
       "      <td>UU1KjWRBCUGvxDkrhu_-UBWg</td>\n",
       "      <td>JLQNJPg9lH4</td>\n",
       "      <td>UC1KjWRBCUGvxDkrhu_-UBWg</td>\n",
       "      <td>greekonomics</td>\n",
       "      <td>UC1KjWRBCUGvxDkrhu_-UBWg</td>\n",
       "    </tr>\n",
       "  </tbody>\n",
       "</table>\n",
       "</div>"
      ],
      "text/plain": [
       "                Playlist_Id     Video_Id                Channel_Id  \\\n",
       "0  UU1KjWRBCUGvxDkrhu_-UBWg  qIifbbutkl0  UC1KjWRBCUGvxDkrhu_-UBWg   \n",
       "1  UU1KjWRBCUGvxDkrhu_-UBWg  JLQNJPg9lH4  UC1KjWRBCUGvxDkrhu_-UBWg   \n",
       "\n",
       "       Username                Channel_ID  \n",
       "0  greekonomics  UC1KjWRBCUGvxDkrhu_-UBWg  \n",
       "1  greekonomics  UC1KjWRBCUGvxDkrhu_-UBWg  "
      ]
     },
     "execution_count": 24,
     "metadata": {},
     "output_type": "execute_result"
    }
   ],
   "source": [
    "info_ids.head(2)"
   ]
  },
  {
   "cell_type": "code",
   "execution_count": 23,
   "id": "2f9c4d6e",
   "metadata": {},
   "outputs": [
    {
     "name": "stdout",
     "output_type": "stream",
     "text": [
      "<class 'pandas.core.frame.DataFrame'>\n",
      "RangeIndex: 13780 entries, 0 to 13779\n",
      "Data columns (total 5 columns):\n",
      " #   Column       Non-Null Count  Dtype \n",
      "---  ------       --------------  ----- \n",
      " 0   Playlist_Id  13780 non-null  object\n",
      " 1   Video_Id     13780 non-null  object\n",
      " 2   Channel_Id   13780 non-null  object\n",
      " 3   Username     13780 non-null  object\n",
      " 4   Channel_ID   13780 non-null  object\n",
      "dtypes: object(5)\n",
      "memory usage: 538.4+ KB\n"
     ]
    }
   ],
   "source": [
    "info_ids.info()"
   ]
  },
  {
   "cell_type": "code",
   "execution_count": 25,
   "id": "06e4fb61",
   "metadata": {},
   "outputs": [],
   "source": [
    "info_ids = info_ids.drop(columns=['Channel_ID'], errors='ignore')"
   ]
  },
  {
   "cell_type": "code",
   "execution_count": 26,
   "id": "4f55b097",
   "metadata": {},
   "outputs": [],
   "source": [
    "info_ids.to_csv('mergedchannelvideodata.csv',index=False)"
   ]
  },
  {
   "cell_type": "markdown",
   "id": "47475f6e",
   "metadata": {},
   "source": [
    "## <span style=\"color:#black\"> **2.2. | Dataset presenting all the channel basic info and statistics** </span> "
   ]
  },
  {
   "cell_type": "code",
   "execution_count": 9,
   "id": "fc33bf78",
   "metadata": {},
   "outputs": [],
   "source": [
    "channel_data = pd.read_csv('channelData.csv')"
   ]
  },
  {
   "cell_type": "code",
   "execution_count": 28,
   "id": "9f31ce98",
   "metadata": {},
   "outputs": [
    {
     "data": {
      "text/html": [
       "<div>\n",
       "<style scoped>\n",
       "    .dataframe tbody tr th:only-of-type {\n",
       "        vertical-align: middle;\n",
       "    }\n",
       "\n",
       "    .dataframe tbody tr th {\n",
       "        vertical-align: top;\n",
       "    }\n",
       "\n",
       "    .dataframe thead th {\n",
       "        text-align: right;\n",
       "    }\n",
       "</style>\n",
       "<table border=\"1\" class=\"dataframe\">\n",
       "  <thead>\n",
       "    <tr style=\"text-align: right;\">\n",
       "      <th></th>\n",
       "      <th>Channel_name</th>\n",
       "      <th>Description</th>\n",
       "      <th>Subscribers</th>\n",
       "      <th>ViewCount</th>\n",
       "      <th>Total_Videos</th>\n",
       "      <th>Playlist_id</th>\n",
       "    </tr>\n",
       "  </thead>\n",
       "  <tbody>\n",
       "    <tr>\n",
       "      <th>0</th>\n",
       "      <td>Greekonomics</td>\n",
       "      <td>Πως η Οικονομία επηρεάζει την Κοινωνία!\\n\\nΤα ...</td>\n",
       "      <td>231000</td>\n",
       "      <td>13154190</td>\n",
       "      <td>60</td>\n",
       "      <td>UU1KjWRBCUGvxDkrhu_-UBWg</td>\n",
       "    </tr>\n",
       "    <tr>\n",
       "      <th>1</th>\n",
       "      <td>Dat Lilly</td>\n",
       "      <td>Νέο βίντεο κάθε Κυριακή ❤\\nThank's for being h...</td>\n",
       "      <td>521000</td>\n",
       "      <td>100038173</td>\n",
       "      <td>190</td>\n",
       "      <td>UU9WYita8NlpXTcmn_js5YzQ</td>\n",
       "    </tr>\n",
       "  </tbody>\n",
       "</table>\n",
       "</div>"
      ],
      "text/plain": [
       "   Channel_name                                        Description  \\\n",
       "0  Greekonomics  Πως η Οικονομία επηρεάζει την Κοινωνία!\\n\\nΤα ...   \n",
       "1     Dat Lilly  Νέο βίντεο κάθε Κυριακή ❤\\nThank's for being h...   \n",
       "\n",
       "   Subscribers  ViewCount  Total_Videos               Playlist_id  \n",
       "0       231000   13154190            60  UU1KjWRBCUGvxDkrhu_-UBWg  \n",
       "1       521000  100038173           190  UU9WYita8NlpXTcmn_js5YzQ  "
      ]
     },
     "execution_count": 28,
     "metadata": {},
     "output_type": "execute_result"
    }
   ],
   "source": [
    "channel_data.head(2)"
   ]
  },
  {
   "cell_type": "code",
   "execution_count": 47,
   "id": "56a5994d",
   "metadata": {},
   "outputs": [
    {
     "name": "stdout",
     "output_type": "stream",
     "text": [
      "<class 'pandas.core.frame.DataFrame'>\n",
      "RangeIndex: 37 entries, 0 to 36\n",
      "Data columns (total 7 columns):\n",
      " #   Column         Non-Null Count  Dtype \n",
      "---  ------         --------------  ----- \n",
      " 0   Channel_name   37 non-null     object\n",
      " 1   Description    37 non-null     object\n",
      " 2   Subscribers    37 non-null     int64 \n",
      " 3   ViewCount      37 non-null     int64 \n",
      " 4   Total_Videos   37 non-null     int64 \n",
      " 5   Playlist_id    37 non-null     object\n",
      " 6   Description_c  37 non-null     object\n",
      "dtypes: int64(3), object(4)\n",
      "memory usage: 2.2+ KB\n"
     ]
    }
   ],
   "source": [
    "channel_data.info()"
   ]
  },
  {
   "cell_type": "code",
   "execution_count": 264,
   "id": "0d4f2085",
   "metadata": {},
   "outputs": [],
   "source": [
    "def preprocess_greek_text(text):\n",
    "    #remove special characters and numbers\n",
    "    text = re.sub(r'[^\\w\\sΑ-Ωα-ωΆ-Ώά-ώA-Za-z]', '', text)\n",
    "    #remove excess whitespace and newline characters\n",
    "    text = text.replace('\\n', ' ').strip()\n",
    "    #convert to lowercase\n",
    "    text = text.lower()\n",
    "    return text"
   ]
  },
  {
   "cell_type": "code",
   "execution_count": 44,
   "id": "e258d2f7",
   "metadata": {},
   "outputs": [],
   "source": [
    "channel_data['Description'] = channel_data['Description'].fillna('').astype(str)"
   ]
  },
  {
   "cell_type": "code",
   "execution_count": 50,
   "id": "6cbd6fd2",
   "metadata": {},
   "outputs": [],
   "source": [
    "channel_data['Description_c'] = channel_data['Description'].apply(preprocess_greek_text)"
   ]
  },
  {
   "cell_type": "code",
   "execution_count": 51,
   "id": "7b7abb3f",
   "metadata": {},
   "outputs": [
    {
     "data": {
      "text/html": [
       "<div>\n",
       "<style scoped>\n",
       "    .dataframe tbody tr th:only-of-type {\n",
       "        vertical-align: middle;\n",
       "    }\n",
       "\n",
       "    .dataframe tbody tr th {\n",
       "        vertical-align: top;\n",
       "    }\n",
       "\n",
       "    .dataframe thead th {\n",
       "        text-align: right;\n",
       "    }\n",
       "</style>\n",
       "<table border=\"1\" class=\"dataframe\">\n",
       "  <thead>\n",
       "    <tr style=\"text-align: right;\">\n",
       "      <th></th>\n",
       "      <th>Channel_name</th>\n",
       "      <th>Description</th>\n",
       "      <th>Subscribers</th>\n",
       "      <th>ViewCount</th>\n",
       "      <th>Total_Videos</th>\n",
       "      <th>Playlist_id</th>\n",
       "      <th>Description_c</th>\n",
       "    </tr>\n",
       "  </thead>\n",
       "  <tbody>\n",
       "    <tr>\n",
       "      <th>0</th>\n",
       "      <td>Greekonomics</td>\n",
       "      <td>Πως η Οικονομία επηρεάζει την Κοινωνία!\\n\\nΤα ...</td>\n",
       "      <td>231000</td>\n",
       "      <td>13154190</td>\n",
       "      <td>60</td>\n",
       "      <td>UU1KjWRBCUGvxDkrhu_-UBWg</td>\n",
       "      <td>πως η οικονομία επηρεάζει την κοινωνία  τα βίν...</td>\n",
       "    </tr>\n",
       "    <tr>\n",
       "      <th>1</th>\n",
       "      <td>Dat Lilly</td>\n",
       "      <td>Νέο βίντεο κάθε Κυριακή ❤\\nThank's for being h...</td>\n",
       "      <td>521000</td>\n",
       "      <td>100038173</td>\n",
       "      <td>190</td>\n",
       "      <td>UU9WYita8NlpXTcmn_js5YzQ</td>\n",
       "      <td>νέο βίντεο κάθε κυριακή  thanks for being here</td>\n",
       "    </tr>\n",
       "    <tr>\n",
       "      <th>2</th>\n",
       "      <td>Pavlos Makris</td>\n",
       "      <td>Εδώ για να σε διασκεδάσω!😊\\nΠάτα το Like &amp; Sub...</td>\n",
       "      <td>12500</td>\n",
       "      <td>1611596</td>\n",
       "      <td>33</td>\n",
       "      <td>UUhWPS3NiUzeRmh8DBmtvYpA</td>\n",
       "      <td>εδώ για να σε διασκεδάσω πάτα το like  subscri...</td>\n",
       "    </tr>\n",
       "    <tr>\n",
       "      <th>3</th>\n",
       "      <td>Eponimos</td>\n",
       "      <td>ναι.</td>\n",
       "      <td>392000</td>\n",
       "      <td>95878785</td>\n",
       "      <td>513</td>\n",
       "      <td>UUFOasUEk9Pkr8YeJxGc88Lw</td>\n",
       "      <td>ναι</td>\n",
       "    </tr>\n",
       "    <tr>\n",
       "      <th>4</th>\n",
       "      <td>Unboxholics</td>\n",
       "      <td>TIME WELL WASTED.\\nGaming | Tech | Cinema | En...</td>\n",
       "      <td>1070000</td>\n",
       "      <td>442841695</td>\n",
       "      <td>1546</td>\n",
       "      <td>UUjBCvQBVTh4XjPwtSMQNcFg</td>\n",
       "      <td>time well wasted gaming  tech  cinema  enterta...</td>\n",
       "    </tr>\n",
       "  </tbody>\n",
       "</table>\n",
       "</div>"
      ],
      "text/plain": [
       "    Channel_name                                        Description  \\\n",
       "0   Greekonomics  Πως η Οικονομία επηρεάζει την Κοινωνία!\\n\\nΤα ...   \n",
       "1      Dat Lilly  Νέο βίντεο κάθε Κυριακή ❤\\nThank's for being h...   \n",
       "2  Pavlos Makris  Εδώ για να σε διασκεδάσω!😊\\nΠάτα το Like & Sub...   \n",
       "3       Eponimos                                               ναι.   \n",
       "4    Unboxholics  TIME WELL WASTED.\\nGaming | Tech | Cinema | En...   \n",
       "\n",
       "   Subscribers  ViewCount  Total_Videos               Playlist_id  \\\n",
       "0       231000   13154190            60  UU1KjWRBCUGvxDkrhu_-UBWg   \n",
       "1       521000  100038173           190  UU9WYita8NlpXTcmn_js5YzQ   \n",
       "2        12500    1611596            33  UUhWPS3NiUzeRmh8DBmtvYpA   \n",
       "3       392000   95878785           513  UUFOasUEk9Pkr8YeJxGc88Lw   \n",
       "4      1070000  442841695          1546  UUjBCvQBVTh4XjPwtSMQNcFg   \n",
       "\n",
       "                                       Description_c  \n",
       "0  πως η οικονομία επηρεάζει την κοινωνία  τα βίν...  \n",
       "1     νέο βίντεο κάθε κυριακή  thanks for being here  \n",
       "2  εδώ για να σε διασκεδάσω πάτα το like  subscri...  \n",
       "3                                                ναι  \n",
       "4  time well wasted gaming  tech  cinema  enterta...  "
      ]
     },
     "execution_count": 51,
     "metadata": {},
     "output_type": "execute_result"
    }
   ],
   "source": [
    "channel_data.head()"
   ]
  },
  {
   "cell_type": "code",
   "execution_count": 24,
   "id": "0dd06e40",
   "metadata": {},
   "outputs": [],
   "source": [
    "channel_data.to_csv('channelData.csv',index=False)"
   ]
  },
  {
   "cell_type": "markdown",
   "id": "e79bfaa4",
   "metadata": {},
   "source": [
    "## <span style=\"color:#black\"> **2.3. | Dataset presenting basic information and statistics for all videos uploaded by the channels** </span> "
   ]
  },
  {
   "cell_type": "code",
   "execution_count": 86,
   "id": "c91d5203",
   "metadata": {},
   "outputs": [],
   "source": [
    "video_data = pd.read_csv('VideoData.csv')"
   ]
  },
  {
   "cell_type": "code",
   "execution_count": 7,
   "id": "8abc3afc",
   "metadata": {},
   "outputs": [
    {
     "data": {
      "text/html": [
       "<div>\n",
       "<style scoped>\n",
       "    .dataframe tbody tr th:only-of-type {\n",
       "        vertical-align: middle;\n",
       "    }\n",
       "\n",
       "    .dataframe tbody tr th {\n",
       "        vertical-align: top;\n",
       "    }\n",
       "\n",
       "    .dataframe thead th {\n",
       "        text-align: right;\n",
       "    }\n",
       "</style>\n",
       "<table border=\"1\" class=\"dataframe\">\n",
       "  <thead>\n",
       "    <tr style=\"text-align: right;\">\n",
       "      <th></th>\n",
       "      <th>Id</th>\n",
       "      <th>Title</th>\n",
       "      <th>Published_Date</th>\n",
       "      <th>Description</th>\n",
       "      <th>Tags</th>\n",
       "      <th>Views</th>\n",
       "      <th>Likes</th>\n",
       "      <th>Dislikes</th>\n",
       "      <th>Comments</th>\n",
       "      <th>Channel_Id</th>\n",
       "      <th>Playlist_Id</th>\n",
       "      <th>Video_Length</th>\n",
       "    </tr>\n",
       "  </thead>\n",
       "  <tbody>\n",
       "    <tr>\n",
       "      <th>0</th>\n",
       "      <td>qIifbbutkl0</td>\n",
       "      <td>Το Παγκόσμιο Μέλλον του Χρήματος | Greekonomic...</td>\n",
       "      <td>2024-11-22T12:44:42Z</td>\n",
       "      <td>Ένα ταξίδι στο μέλλον του χρηματοπιστωτικού συ...</td>\n",
       "      <td>[]</td>\n",
       "      <td>172515</td>\n",
       "      <td>14860</td>\n",
       "      <td>0</td>\n",
       "      <td>1332</td>\n",
       "      <td>UC1KjWRBCUGvxDkrhu_-UBWg</td>\n",
       "      <td>UU1KjWRBCUGvxDkrhu_-UBWg</td>\n",
       "      <td>PT37M24S</td>\n",
       "    </tr>\n",
       "    <tr>\n",
       "      <th>1</th>\n",
       "      <td>JLQNJPg9lH4</td>\n",
       "      <td>Η \"Κολομβία\" της Ευρώπης | Greekonomics #45</td>\n",
       "      <td>2024-09-22T08:44:24Z</td>\n",
       "      <td>Ευχαριστώ την Freedom24 που στηρίζει το κανάλι...</td>\n",
       "      <td>[]</td>\n",
       "      <td>549229</td>\n",
       "      <td>41163</td>\n",
       "      <td>0</td>\n",
       "      <td>4127</td>\n",
       "      <td>UC1KjWRBCUGvxDkrhu_-UBWg</td>\n",
       "      <td>UU1KjWRBCUGvxDkrhu_-UBWg</td>\n",
       "      <td>PT19M58S</td>\n",
       "    </tr>\n",
       "  </tbody>\n",
       "</table>\n",
       "</div>"
      ],
      "text/plain": [
       "            Id                                              Title  \\\n",
       "0  qIifbbutkl0  Το Παγκόσμιο Μέλλον του Χρήματος | Greekonomic...   \n",
       "1  JLQNJPg9lH4        Η \"Κολομβία\" της Ευρώπης | Greekonomics #45   \n",
       "\n",
       "         Published_Date                                        Description  \\\n",
       "0  2024-11-22T12:44:42Z  Ένα ταξίδι στο μέλλον του χρηματοπιστωτικού συ...   \n",
       "1  2024-09-22T08:44:24Z  Ευχαριστώ την Freedom24 που στηρίζει το κανάλι...   \n",
       "\n",
       "  Tags   Views  Likes  Dislikes  Comments                Channel_Id  \\\n",
       "0   []  172515  14860         0      1332  UC1KjWRBCUGvxDkrhu_-UBWg   \n",
       "1   []  549229  41163         0      4127  UC1KjWRBCUGvxDkrhu_-UBWg   \n",
       "\n",
       "                Playlist_Id Video_Length  \n",
       "0  UU1KjWRBCUGvxDkrhu_-UBWg     PT37M24S  \n",
       "1  UU1KjWRBCUGvxDkrhu_-UBWg     PT19M58S  "
      ]
     },
     "execution_count": 7,
     "metadata": {},
     "output_type": "execute_result"
    }
   ],
   "source": [
    "video_data.head(2)"
   ]
  },
  {
   "cell_type": "code",
   "execution_count": 59,
   "id": "e90716d4",
   "metadata": {},
   "outputs": [
    {
     "name": "stdout",
     "output_type": "stream",
     "text": [
      "<class 'pandas.core.frame.DataFrame'>\n",
      "RangeIndex: 13780 entries, 0 to 13779\n",
      "Data columns (total 20 columns):\n",
      " #   Column                 Non-Null Count  Dtype   \n",
      "---  ------                 --------------  -----   \n",
      " 0   Id                     13780 non-null  object  \n",
      " 1   Title                  13780 non-null  object  \n",
      " 2   Published_Date         13780 non-null  object  \n",
      " 3   Description            13780 non-null  object  \n",
      " 4   Tags                   13780 non-null  object  \n",
      " 5   Views                  13780 non-null  int64   \n",
      " 6   Likes                  13780 non-null  int64   \n",
      " 7   Dislikes               13780 non-null  int64   \n",
      " 8   Comments               13780 non-null  int64   \n",
      " 9   Channel_Id             13780 non-null  object  \n",
      " 10  Playlist_Id            13780 non-null  object  \n",
      " 11  Video_Length           13780 non-null  object  \n",
      " 12  Published_Year         13780 non-null  int32   \n",
      " 13  Published_Month        13780 non-null  int32   \n",
      " 14  Description_c          13780 non-null  object  \n",
      " 15  Video_Length_Seconds   13780 non-null  int64   \n",
      " 16  Video_Length_HH_MM_SS  13780 non-null  object  \n",
      " 17  Comments_Presence      13780 non-null  int64   \n",
      " 18  Video_Length_Category  13771 non-null  category\n",
      " 19  Channel_Username       13780 non-null  object  \n",
      "dtypes: category(1), int32(2), int64(6), object(11)\n",
      "memory usage: 1.9+ MB\n"
     ]
    }
   ],
   "source": [
    "video_data.info()"
   ]
  },
  {
   "cell_type": "code",
   "execution_count": 9,
   "id": "450005d2",
   "metadata": {},
   "outputs": [],
   "source": [
    "video_data['Published_Date'] = pd.to_datetime(video_data['Published_Date'])\n",
    "video_data['Published_Date'] = video_data['Published_Date'].dt.tz_convert('Europe/Athens')"
   ]
  },
  {
   "cell_type": "code",
   "execution_count": 10,
   "id": "44c3daa5",
   "metadata": {},
   "outputs": [],
   "source": [
    "video_data['Published_Year'] = video_data['Published_Date'].dt.year\n",
    "video_data['Published_Month'] = video_data['Published_Date'].dt.month"
   ]
  },
  {
   "cell_type": "code",
   "execution_count": 11,
   "id": "511be648",
   "metadata": {},
   "outputs": [],
   "source": [
    "video_data['Published_Date'] = video_data['Published_Date'].dt.date"
   ]
  },
  {
   "cell_type": "code",
   "execution_count": 17,
   "id": "71246819",
   "metadata": {},
   "outputs": [],
   "source": [
    "video_data['Description'] = video_data['Description'].fillna('').astype(str)\n",
    "video_data['Description_c'] = video_data['Description'].apply(preprocess_greek_text)"
   ]
  },
  {
   "cell_type": "code",
   "execution_count": 18,
   "id": "3cef5df9",
   "metadata": {},
   "outputs": [],
   "source": [
    "def convert_video_length(duration): #to convert ISO 8601 duration to total seconds\n",
    "    parsed_duration = parse_duration(duration) \n",
    "    total_seconds = int(parsed_duration.total_seconds())\n",
    "    return total_seconds"
   ]
  },
  {
   "cell_type": "code",
   "execution_count": 19,
   "id": "b9367860",
   "metadata": {
    "scrolled": true
   },
   "outputs": [],
   "source": [
    "video_data['Video_Length_Seconds'] = video_data['Video_Length'].apply(convert_video_length)\n",
    "video_data['Video_Length_HH_MM_SS'] = pd.to_timedelta(video_data['Video_Length_Seconds'], unit='s')\n",
    "video_data['Video_Length_HH_MM_SS'] = video_data['Video_Length_HH_MM_SS'].astype(str).str.replace('0 days ', '')"
   ]
  },
  {
   "cell_type": "code",
   "execution_count": 39,
   "id": "642716df",
   "metadata": {},
   "outputs": [],
   "source": [
    "video_data['Comments_Presence'] = (video_data['Comments'] > 0).astype(int)"
   ]
  },
  {
   "cell_type": "code",
   "execution_count": 42,
   "id": "61f766cb",
   "metadata": {},
   "outputs": [],
   "source": [
    "#fefine refined bins and labels\n",
    "bins = [0, 240, 1200, 3600, float('inf')]  # 0-4 min, 4-20 min, 20-60 min, >60 min\n",
    "labels = ['short', 'medium', 'long', 'super long']\n",
    "\n",
    "#create the categorical variable based on video duration\n",
    "video_data['Video_Length_Category'] = pd.cut(video_data['Video_Length_Seconds'], bins=bins, labels=labels)"
   ]
  },
  {
   "cell_type": "code",
   "execution_count": null,
   "id": "02e91c23",
   "metadata": {},
   "outputs": [],
   "source": [
    "median_views = video_data['Views'].median()\n",
    "video_data['Popular'] = (video_data['Views'] > median_views).astype(int)"
   ]
  },
  {
   "cell_type": "code",
   "execution_count": 271,
   "id": "306a6d2d",
   "metadata": {},
   "outputs": [],
   "source": [
    "channelinfo = pd.read_csv('Channel_Names_IDs.csv')"
   ]
  },
  {
   "cell_type": "code",
   "execution_count": 272,
   "id": "ada54cf7",
   "metadata": {},
   "outputs": [
    {
     "data": {
      "text/html": [
       "<div>\n",
       "<style scoped>\n",
       "    .dataframe tbody tr th:only-of-type {\n",
       "        vertical-align: middle;\n",
       "    }\n",
       "\n",
       "    .dataframe tbody tr th {\n",
       "        vertical-align: top;\n",
       "    }\n",
       "\n",
       "    .dataframe thead th {\n",
       "        text-align: right;\n",
       "    }\n",
       "</style>\n",
       "<table border=\"1\" class=\"dataframe\">\n",
       "  <thead>\n",
       "    <tr style=\"text-align: right;\">\n",
       "      <th></th>\n",
       "      <th>Username</th>\n",
       "      <th>Channel_ID</th>\n",
       "    </tr>\n",
       "  </thead>\n",
       "  <tbody>\n",
       "    <tr>\n",
       "      <th>0</th>\n",
       "      <td>gl_show</td>\n",
       "      <td>UC5_mz3DN_m9dTlsyH1Hy2BA</td>\n",
       "    </tr>\n",
       "    <tr>\n",
       "      <th>1</th>\n",
       "      <td>xristosraftas</td>\n",
       "      <td>UCA9IL3pf55xRhTJ4fRxAzEw</td>\n",
       "    </tr>\n",
       "    <tr>\n",
       "      <th>2</th>\n",
       "      <td>unboxholics</td>\n",
       "      <td>UCjBCvQBVTh4XjPwtSMQNcFg</td>\n",
       "    </tr>\n",
       "    <tr>\n",
       "      <th>3</th>\n",
       "      <td>persadpopara</td>\n",
       "      <td>UC5ISG0x-4OwC2VrnRxWLwzA</td>\n",
       "    </tr>\n",
       "    <tr>\n",
       "      <th>4</th>\n",
       "      <td>george_tala</td>\n",
       "      <td>UChOKNVWJLqGN2DB1ZcpNHKA</td>\n",
       "    </tr>\n",
       "  </tbody>\n",
       "</table>\n",
       "</div>"
      ],
      "text/plain": [
       "        Username                Channel_ID\n",
       "0        gl_show  UC5_mz3DN_m9dTlsyH1Hy2BA\n",
       "1  xristosraftas  UCA9IL3pf55xRhTJ4fRxAzEw\n",
       "2    unboxholics  UCjBCvQBVTh4XjPwtSMQNcFg\n",
       "3   persadpopara  UC5ISG0x-4OwC2VrnRxWLwzA\n",
       "4    george_tala  UChOKNVWJLqGN2DB1ZcpNHKA"
      ]
     },
     "execution_count": 272,
     "metadata": {},
     "output_type": "execute_result"
    }
   ],
   "source": [
    "channelinfo.head()"
   ]
  },
  {
   "cell_type": "code",
   "execution_count": 273,
   "id": "dfb15629",
   "metadata": {
    "scrolled": true
   },
   "outputs": [],
   "source": [
    "#create a mapping of Channel_Id to Channel_Username\n",
    "channel_mapping = channelinfo.set_index('Channel_ID')['Username']\n",
    "\n",
    "# Channel_Username with corresponding Channel_ID\n",
    "video_data['Channel_Username'] = video_data['Channel_Id'].map(channel_mapping)"
   ]
  },
  {
   "cell_type": "code",
   "execution_count": 260,
   "id": "682bcaa7",
   "metadata": {},
   "outputs": [],
   "source": [
    "video_data.to_csv('VideoData.csv',index=False)"
   ]
  },
  {
   "cell_type": "markdown",
   "id": "2bec4c58",
   "metadata": {},
   "source": [
    "## <span style=\"color:#black\"> **2.4.1. | Dataset presenting comments and threads data for 100 randomly sampled videos** </span> "
   ]
  },
  {
   "cell_type": "code",
   "execution_count": 257,
   "id": "2ced8fa5",
   "metadata": {},
   "outputs": [],
   "source": [
    "comments_data = pd.read_csv('CommentsData.csv')"
   ]
  },
  {
   "cell_type": "code",
   "execution_count": 282,
   "id": "98f86d4a",
   "metadata": {},
   "outputs": [
    {
     "name": "stdout",
     "output_type": "stream",
     "text": [
      "<class 'pandas.core.frame.DataFrame'>\n",
      "RangeIndex: 31115 entries, 0 to 31114\n",
      "Data columns (total 12 columns):\n",
      " #   Column            Non-Null Count  Dtype \n",
      "---  ------            --------------  ----- \n",
      " 0   Video_ID          31115 non-null  object\n",
      " 1   Channel_ID        31115 non-null  object\n",
      " 2   User_name         31112 non-null  object\n",
      " 3   Comment           31099 non-null  object\n",
      " 4   Comment_likes     31115 non-null  int64 \n",
      " 5   Published_Date    31115 non-null  object\n",
      " 6   Total_Replies     31115 non-null  int64 \n",
      " 7   Creator_Replies   31115 non-null  int64 \n",
      " 8   Published_Year    31115 non-null  int64 \n",
      " 9   Published_Month   31115 non-null  int64 \n",
      " 10  Comment_p         30288 non-null  object\n",
      " 11  Replies_Presence  31115 non-null  int64 \n",
      "dtypes: int64(6), object(6)\n",
      "memory usage: 2.8+ MB\n"
     ]
    }
   ],
   "source": [
    "comments_data.info()"
   ]
  },
  {
   "cell_type": "code",
   "execution_count": 260,
   "id": "f0e37eaa",
   "metadata": {},
   "outputs": [],
   "source": [
    "comments_data['Published_Date'] = pd.to_datetime(comments_data['Published_Date'])\n",
    "comments_data['Published_Date'] = comments_data['Published_Date'].dt.tz_convert('Europe/Athens')"
   ]
  },
  {
   "cell_type": "code",
   "execution_count": 261,
   "id": "e0a5d114",
   "metadata": {},
   "outputs": [],
   "source": [
    "comments_data['Published_Year'] = comments_data['Published_Date'].dt.year\n",
    "comments_data['Published_Month'] = comments_data['Published_Date'].dt.month"
   ]
  },
  {
   "cell_type": "code",
   "execution_count": 262,
   "id": "e2de5840",
   "metadata": {},
   "outputs": [],
   "source": [
    "comments_data['Published_Date'] = comments_data['Published_Date'].dt.date"
   ]
  },
  {
   "cell_type": "code",
   "execution_count": 281,
   "id": "8615e337",
   "metadata": {},
   "outputs": [],
   "source": [
    "comments_data['Replies_Presence'] = (comments_data['Total_Replies'] > 0).astype(int)"
   ]
  },
  {
   "cell_type": "code",
   "execution_count": 265,
   "id": "347a1d13",
   "metadata": {},
   "outputs": [],
   "source": [
    "comments_data['Comment'] = comments_data['Comment'].fillna('').astype(str)\n",
    "comments_data['Comment_p'] = comments_data['Comment'].apply(preprocess_greek_text)"
   ]
  },
  {
   "cell_type": "code",
   "execution_count": 283,
   "id": "625546a0",
   "metadata": {},
   "outputs": [],
   "source": [
    "comments_data.to_csv('CommentsDataP.csv',index=False)"
   ]
  },
  {
   "cell_type": "markdown",
   "id": "7ef9064b",
   "metadata": {},
   "source": [
    "### <span style=\"color:#940000\"> **2.4.2. | Anonymization of Usernames column of Dataset presenting comments and threads data for 100 randomly sampled videos** </span> "
   ]
  },
  {
   "cell_type": "markdown",
   "id": "975059c1",
   "metadata": {},
   "source": [
    "Since **comments are classified as personal data under Article 4(1) of Regulation 2016/679 (GDPR)**, their **processing** in this research is conducted **under the legal basis of Article 6(1)(f)**, which allows processing for legitimate interests. In this case, the legitimate interest pertains to conducting academic research as part of a specific exam project. A **random sample** of 62,037 comments, including usernames (personal data), from 100 videos was collected in adherence to the principle of **data minimization**, as outlined in **Article 5(1)(c)**, ensuring that only data necessary for the research purpose was processed.\n",
    "\n",
    "Recognizing that usernames constitute personal data that could potentially identify individuals, **pseudonymization technique** was implemented to safeguard data security and ensure user anonymity. This aligns with the requirements of **Article 32(1)(a)**, which emphasizes the importance of technical and organizational measures to protect personal data, and the guidance provided in Recital 26, which underscores the value of pseudonymization in mitigating risks associated with personal data processing.\n",
    "\n",
    "source: https://eur-lex.europa.eu/legal-content/EN/TXT/?uri=celex:32016R0679"
   ]
  },
  {
   "cell_type": "code",
   "execution_count": 274,
   "id": "1e8d2658",
   "metadata": {},
   "outputs": [],
   "source": [
    "#list of creator username channels\n",
    "creator_channels = channelinfo['Username']\n",
    "\n",
    "#Function to anonymize usernames\n",
    "def anonymize_username(username, creators):\n",
    "    if pd.isna(username):  # Handle missing values\n",
    "        return 'Unknown'\n",
    "    if username in creators:\n",
    "        return username  # Retain the creator's name\n",
    "    # Anonymize other usernames using SHA-256 hashing\n",
    "    return hashlib.sha256(str(username).encode()).hexdigest()\n",
    "\n",
    "#apply anonymization\n",
    "comments_data['User_name'] = comments_data['User_name'].apply(lambda x: anonymize_username(x, creator_channels))"
   ]
  },
  {
   "cell_type": "code",
   "execution_count": 276,
   "id": "7f3f81ae",
   "metadata": {},
   "outputs": [
    {
     "data": {
      "text/html": [
       "<div>\n",
       "<style scoped>\n",
       "    .dataframe tbody tr th:only-of-type {\n",
       "        vertical-align: middle;\n",
       "    }\n",
       "\n",
       "    .dataframe tbody tr th {\n",
       "        vertical-align: top;\n",
       "    }\n",
       "\n",
       "    .dataframe thead th {\n",
       "        text-align: right;\n",
       "    }\n",
       "</style>\n",
       "<table border=\"1\" class=\"dataframe\">\n",
       "  <thead>\n",
       "    <tr style=\"text-align: right;\">\n",
       "      <th></th>\n",
       "      <th>Video_ID</th>\n",
       "      <th>Channel_ID</th>\n",
       "      <th>User_name</th>\n",
       "      <th>Comment</th>\n",
       "      <th>Comment_likes</th>\n",
       "      <th>Published_Date</th>\n",
       "      <th>Total_Replies</th>\n",
       "      <th>Creator_Replies</th>\n",
       "      <th>Published_Year</th>\n",
       "      <th>Published_Month</th>\n",
       "      <th>Comment_p</th>\n",
       "    </tr>\n",
       "  </thead>\n",
       "  <tbody>\n",
       "    <tr>\n",
       "      <th>0</th>\n",
       "      <td>pxv2GXvEFqY</td>\n",
       "      <td>UCFOasUEk9Pkr8YeJxGc88Lw</td>\n",
       "      <td>5dfadffa8ffe5ba97828ebc3c70d18c49f69cea80d70b4...</td>\n",
       "      <td>Cfv 0:15</td>\n",
       "      <td>0</td>\n",
       "      <td>2024-05-11</td>\n",
       "      <td>0</td>\n",
       "      <td>0</td>\n",
       "      <td>2024</td>\n",
       "      <td>5</td>\n",
       "      <td>cfv 015</td>\n",
       "    </tr>\n",
       "    <tr>\n",
       "      <th>1</th>\n",
       "      <td>pxv2GXvEFqY</td>\n",
       "      <td>UCFOasUEk9Pkr8YeJxGc88Lw</td>\n",
       "      <td>d4d5d861b27a239f2bb8b84a6ec6436073c28cd35338c5...</td>\n",
       "      <td>Φίλε δε τραγούδησες της Ελλάδας</td>\n",
       "      <td>0</td>\n",
       "      <td>2023-07-27</td>\n",
       "      <td>0</td>\n",
       "      <td>0</td>\n",
       "      <td>2023</td>\n",
       "      <td>7</td>\n",
       "      <td>φίλε δε τραγούδησες της ελλάδας</td>\n",
       "    </tr>\n",
       "  </tbody>\n",
       "</table>\n",
       "</div>"
      ],
      "text/plain": [
       "      Video_ID                Channel_ID  \\\n",
       "0  pxv2GXvEFqY  UCFOasUEk9Pkr8YeJxGc88Lw   \n",
       "1  pxv2GXvEFqY  UCFOasUEk9Pkr8YeJxGc88Lw   \n",
       "\n",
       "                                           User_name  \\\n",
       "0  5dfadffa8ffe5ba97828ebc3c70d18c49f69cea80d70b4...   \n",
       "1  d4d5d861b27a239f2bb8b84a6ec6436073c28cd35338c5...   \n",
       "\n",
       "                           Comment  Comment_likes Published_Date  \\\n",
       "0                         Cfv 0:15              0     2024-05-11   \n",
       "1  Φίλε δε τραγούδησες της Ελλάδας              0     2023-07-27   \n",
       "\n",
       "   Total_Replies  Creator_Replies  Published_Year  Published_Month  \\\n",
       "0              0                0            2024                5   \n",
       "1              0                0            2023                7   \n",
       "\n",
       "                         Comment_p  \n",
       "0                          cfv 015  \n",
       "1  φίλε δε τραγούδησες της ελλάδας  "
      ]
     },
     "execution_count": 276,
     "metadata": {},
     "output_type": "execute_result"
    }
   ],
   "source": [
    "comments_data.head(2)"
   ]
  }
 ],
 "metadata": {
  "kernelspec": {
   "display_name": "Python 3 (ipykernel)",
   "language": "python",
   "name": "python3"
  },
  "language_info": {
   "codemirror_mode": {
    "name": "ipython",
    "version": 3
   },
   "file_extension": ".py",
   "mimetype": "text/x-python",
   "name": "python",
   "nbconvert_exporter": "python",
   "pygments_lexer": "ipython3",
   "version": "3.12.3"
  }
 },
 "nbformat": 4,
 "nbformat_minor": 5
}
